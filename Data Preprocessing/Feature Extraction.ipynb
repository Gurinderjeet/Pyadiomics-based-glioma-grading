{
  "nbformat": 4,
  "nbformat_minor": 0,
  "metadata": {
    "colab": {
      "name": "Untitled1.ipynb",
      "provenance": []
    },
    "kernelspec": {
      "name": "python3",
      "display_name": "Python 3"
    }
  },
  "cells": [
    {
      "cell_type": "code",
      "metadata": {
        "id": "GssaepCpQfOY",
        "colab_type": "code",
        "colab": {}
      },
      "source": [
        "  #!python -m pip install pyradiomics\n",
        "  import pandas as pd\n",
        "  import numpy as np\n",
        "  import radiomics\n",
        "  from radiomics import featureextractor\n",
        "  \n",
        "  extractor = radiomics.featureextractor.RadiomicsFeatureExtractor()\n",
        "  result = extractor.execute(fusedImage, segt1, label=1)\n",
        "  data= pd.DataFrame(columns=result.keys())\n",
        "  data= data.iloc[:, 22:]\n",
        "  for featureName in data.columns:\n",
        "    data.loc[0, featureName]=result[featureName]\n",
        "\n",
        "  result = extractor.execute(fusedImage, segt2, label=1)\n",
        "  data1= pd.DataFrame(columns=result.keys())\n",
        "  data1= data1.iloc[:, 22:]\n",
        "  for featureName in data1.columns:\n",
        "    data1.loc[0, featureName]=result[featureName]\n",
        "\n",
        "  result = extractor.execute(fusedImage, segt3, label=1)\n",
        "  data2= pd.DataFrame(columns=result.keys())\n",
        "  data2= data2.iloc[:, 22:]\n",
        "  for featureName in data2.columns:\n",
        "    data2.loc[0, featureName]=result[featureName]\n",
        "\n",
        "  data1.columns = [str(col) + ' ROI 1' for col in data1.columns]\n",
        "  data2.columns = [str(col) + ' ROI 2' for col in data2.columns]\n",
        "  data.columns = [str(col) + ' ROI 3' for col in data.columns]\n",
        "  \n",
        "  data1[\"GRADE\"]=   #0-LGG, 1-HGG\n",
        "  data2[\"GRADE\"]=\n",
        "  data[\"GRADE\"]=\n",
        "  \n",
        "\n",
        "  datac=data1.merge(data2, how=\"inner\", on=[\"GRADE\"])\n",
        "  datac=datac.merge(data, how=\"inner\", on=[\"GRADE\"])\n",
        "\n",
        "  fused_data=datac"
      ],
      "execution_count": 0,
      "outputs": []
    }
  ]
}